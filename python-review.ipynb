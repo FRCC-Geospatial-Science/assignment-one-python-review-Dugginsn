{
 "cells": [
  {
   "cell_type": "markdown",
   "id": "9c4be673-9c70-4051-9b72-466f198c3f91",
   "metadata": {},
   "source": [
    "# Expressions, Values, and Operators\n",
    "\n",
    "## Python as a Calculator\n",
    "In the following cell, enter and run (shift+enter or the Execute button) a simple math problem"
   ]
  },
  {
   "cell_type": "code",
   "execution_count": 1,
   "id": "1de58755-a30e-4661-b148-d31b5436765a",
   "metadata": {},
   "outputs": [
    {
     "data": {
      "text/plain": [
       "4"
      ]
     },
     "execution_count": 1,
     "metadata": {},
     "output_type": "execute_result"
    }
   ],
   "source": [
    "2+2"
   ]
  },
  {
   "cell_type": "markdown",
   "id": "40647dcf-27b7-41d0-bc4c-be41a4e5d83b",
   "metadata": {},
   "source": [
    "Then evaluate the following"
   ]
  },
  {
   "cell_type": "code",
   "execution_count": 2,
   "id": "eb2bb97d-34ae-4bde-b5b9-72a67920f022",
   "metadata": {},
   "outputs": [
    {
     "data": {
      "text/plain": [
       "16.0"
      ]
     },
     "execution_count": 2,
     "metadata": {},
     "output_type": "execute_result"
    }
   ],
   "source": [
    "(5 - 1) * ((7 + 1) / (3 - 1))"
   ]
  },
  {
   "cell_type": "markdown",
   "id": "355ed377-29df-45c3-b1c4-0fd3a2065b3b",
   "metadata": {},
   "source": [
    "## Errors in Python\n",
    "Fix the following error, then execute the cell"
   ]
  },
  {
   "cell_type": "code",
   "execution_count": 4,
   "id": "8a8d0399-ae80-4a30-8fd7-d09ea9d47fec",
   "metadata": {},
   "outputs": [
    {
     "data": {
      "text/plain": [
       "30703"
      ]
     },
     "execution_count": 4,
     "metadata": {},
     "output_type": "execute_result"
    }
   ],
   "source": [
    "# Not sue what this is asking for. I just added a number so it would add instead of errroring\n",
    "5 + 30698"
   ]
  },
  {
   "cell_type": "markdown",
   "id": "3cd6eda3-23f7-4f46-a608-09cf00f71f85",
   "metadata": {},
   "source": [
    "## Data Types\n",
    "1. Concatenate your name, the name of this course, and your age\n",
    "2. Try concatenating your age without first converting it to a string. Examine the resulting error."
   ]
  },
  {
   "cell_type": "code",
   "execution_count": 6,
   "id": "ac61e215-338b-409a-9fcf-c189d5eb1ee3",
   "metadata": {},
   "outputs": [
    {
     "data": {
      "text/plain": [
       "'Nathan Duggins GIS3011 42'"
      ]
     },
     "execution_count": 6,
     "metadata": {},
     "output_type": "execute_result"
    }
   ],
   "source": [
    "\"Nathan Duggins \" + \"GIS3011 \" + str(42)"
   ]
  },
  {
   "cell_type": "code",
   "execution_count": 7,
   "id": "a993215a-bcfb-4287-b879-5ab0d2ce0f80",
   "metadata": {},
   "outputs": [
    {
     "ename": "TypeError",
     "evalue": "can only concatenate str (not \"int\") to str",
     "output_type": "error",
     "traceback": [
      "\u001b[1;31m---------------------------------------------------------------------------\u001b[0m",
      "\u001b[1;31mTypeError\u001b[0m                                 Traceback (most recent call last)",
      "Cell \u001b[1;32mIn[7], line 1\u001b[0m\n\u001b[1;32m----> 1\u001b[0m \u001b[38;5;124;43m\"\u001b[39;49m\u001b[38;5;124;43mNathan Duggins \u001b[39;49m\u001b[38;5;124;43m\"\u001b[39;49m\u001b[43m \u001b[49m\u001b[38;5;241;43m+\u001b[39;49m\u001b[43m \u001b[49m\u001b[38;5;124;43m\"\u001b[39;49m\u001b[38;5;124;43mGIS3011 \u001b[39;49m\u001b[38;5;124;43m\"\u001b[39;49m\u001b[43m \u001b[49m\u001b[38;5;241;43m+\u001b[39;49m\u001b[43m \u001b[49m\u001b[38;5;241;43m42\u001b[39;49m\n",
      "\u001b[1;31mTypeError\u001b[0m: can only concatenate str (not \"int\") to str"
     ]
    }
   ],
   "source": [
    "\"Nathan Duggins \" + \"GIS3011 \" + 42"
   ]
  },
  {
   "cell_type": "markdown",
   "id": "5b11ec4f-f037-460b-b298-f39db27a662c",
   "metadata": {},
   "source": [
    "## Variables\n",
    "Create a variable for spam, eggs, and bacon. Assign them a string. Concatenate the variables to make a full sentence about breakfast."
   ]
  },
  {
   "cell_type": "code",
   "execution_count": 16,
   "id": "07d49e90-2e6b-4c95-9c07-e5a509cd28c2",
   "metadata": {},
   "outputs": [
    {
     "name": "stdout",
     "output_type": "stream",
     "text": [
      "I like eggs and bacon, but I don't enjoy spam .\n"
     ]
    }
   ],
   "source": [
    "sp=\"spam\"\n",
    "egg=\"eggs\"\n",
    "bac=\"bacon\"\n",
    "print(f\"I like {egg} and {bac}, but I don't enjoy {sp}.\")"
   ]
  },
  {
   "cell_type": "markdown",
   "id": "53655d06-4209-4d92-9ba4-c9147656d3e6",
   "metadata": {},
   "source": [
    "## Statements\n",
    "\n",
    "Enter the expression: 2 + 2\n",
    "Then assign the variable spam to the expression 2 + 2\n",
    "Then use the variable “spam” to increase the variable spam by 5"
   ]
  },
  {
   "cell_type": "code",
   "execution_count": 21,
   "id": "12a6fa83-11a5-478c-83df-bd2439b9a3af",
   "metadata": {},
   "outputs": [
    {
     "data": {
      "text/plain": [
       "4"
      ]
     },
     "execution_count": 21,
     "metadata": {},
     "output_type": "execute_result"
    }
   ],
   "source": [
    "spam = 2+2\n",
    "spam"
   ]
  },
  {
   "cell_type": "code",
   "execution_count": 22,
   "id": "4daabdaa-6e90-4e9c-b1bb-d65a22c8236c",
   "metadata": {},
   "outputs": [
    {
     "data": {
      "text/plain": [
       "9"
      ]
     },
     "execution_count": 22,
     "metadata": {},
     "output_type": "execute_result"
    }
   ],
   "source": [
    "spam = spam + 5\n",
    "spam"
   ]
  },
  {
   "cell_type": "markdown",
   "id": "285fac5f-937d-40e5-8621-b75c3b577530",
   "metadata": {},
   "source": [
    "## Writing a Simple Program with Inputs\n",
    "Up next, we are going to write a program which asks for a user’s name and then greets them \n",
    "1. Write a multiline comment which describes the program on more that one line\n",
    "2. In a few slides, we will add more code to the program"
   ]
  },
  {
   "cell_type": "code",
   "execution_count": 30,
   "id": "33b7656c-26bb-4e49-b2ea-6adbf6e4de85",
   "metadata": {},
   "outputs": [
    {
     "data": {
      "text/plain": [
       "\"Asks for a user's name \\nand then greets them.\\n\""
      ]
     },
     "execution_count": 30,
     "metadata": {},
     "output_type": "execute_result"
    }
   ],
   "source": [
    "\"\"\"Asks for a user's name \n",
    "and then greets them.\n",
    "\"\"\""
   ]
  },
  {
   "cell_type": "code",
   "execution_count": 26,
   "id": "bf535bf5-b459-41f3-b2d9-f8fb41a20397",
   "metadata": {},
   "outputs": [
    {
     "name": "stdin",
     "output_type": "stream",
     "text": [
      "what is your name? Nathan\n"
     ]
    }
   ],
   "source": [
    "name=input(\"what is your name?\")"
   ]
  },
  {
   "cell_type": "code",
   "execution_count": 29,
   "id": "e02d6a63-ec1f-4ef6-b5b1-4fb9550b3049",
   "metadata": {},
   "outputs": [
    {
     "name": "stdout",
     "output_type": "stream",
     "text": [
      "Hello, Nathan, it's nice to meet you\n"
     ]
    }
   ],
   "source": [
    "print(f\"Hello, {name}, it's nice to meet you\")"
   ]
  },
  {
   "cell_type": "code",
   "execution_count": 33,
   "id": "8ec0c812-2507-4d2e-9e91-341265b3e3b8",
   "metadata": {},
   "outputs": [
    {
     "name": "stdout",
     "output_type": "stream",
     "text": [
      "The length of your name is 6\n"
     ]
    }
   ],
   "source": [
    "length=len(name)\n",
    "print(f\"The length of your name is {length}\")"
   ]
  },
  {
   "cell_type": "code",
   "execution_count": 36,
   "id": "b8bbd045-1ded-44d1-af41-f31a3907ff22",
   "metadata": {},
   "outputs": [
    {
     "name": "stdin",
     "output_type": "stream",
     "text": [
      "What is your age? 42\n"
     ]
    }
   ],
   "source": [
    "age=int(input(\"What is your age?\"))"
   ]
  },
  {
   "cell_type": "code",
   "execution_count": 40,
   "id": "3565e132-e491-4f0b-b186-e013216148a9",
   "metadata": {},
   "outputs": [
    {
     "name": "stdout",
     "output_type": "stream",
     "text": [
      "You will be 43 in a year.\n"
     ]
    }
   ],
   "source": [
    "print(\"You will be \" + str((age)+1) + \" in a year.\")"
   ]
  },
  {
   "cell_type": "markdown",
   "id": "be8763ab-f7d9-487c-8dfb-e9df6b3e7b5e",
   "metadata": {},
   "source": [
    "## Boolean Values and Comparison Operators\n",
    "1. Enter and evaluate several Boolean operators, as seen in Slide 13"
   ]
  },
  {
   "cell_type": "code",
   "execution_count": 41,
   "id": "4f0cdd0c-4d65-4227-b300-ee5da00ec514",
   "metadata": {},
   "outputs": [
    {
     "data": {
      "text/plain": [
       "True"
      ]
     },
     "execution_count": 41,
     "metadata": {},
     "output_type": "execute_result"
    }
   ],
   "source": [
    "42 ==42"
   ]
  },
  {
   "cell_type": "code",
   "execution_count": 42,
   "id": "b5681138-0336-472d-b1e2-4b9e22c91924",
   "metadata": {},
   "outputs": [
    {
     "data": {
      "text/plain": [
       "False"
      ]
     },
     "execution_count": 42,
     "metadata": {},
     "output_type": "execute_result"
    }
   ],
   "source": [
    "42==\"hello\""
   ]
  },
  {
   "cell_type": "code",
   "execution_count": 43,
   "id": "84a83de8-a5f7-4aad-90bf-ea779ac23179",
   "metadata": {},
   "outputs": [
    {
     "data": {
      "text/plain": [
       "False"
      ]
     },
     "execution_count": 43,
     "metadata": {},
     "output_type": "execute_result"
    }
   ],
   "source": [
    "42=='42'"
   ]
  },
  {
   "cell_type": "code",
   "execution_count": 44,
   "id": "302286fd-fdf3-4069-923e-ecdb4e7fb485",
   "metadata": {},
   "outputs": [
    {
     "data": {
      "text/plain": [
       "True"
      ]
     },
     "execution_count": 44,
     "metadata": {},
     "output_type": "execute_result"
    }
   ],
   "source": [
    "42.0==42"
   ]
  },
  {
   "cell_type": "code",
   "execution_count": 45,
   "id": "f53af6c3-f968-4c3c-ac8e-b810965d4847",
   "metadata": {},
   "outputs": [
    {
     "data": {
      "text/plain": [
       "False"
      ]
     },
     "execution_count": 45,
     "metadata": {},
     "output_type": "execute_result"
    }
   ],
   "source": [
    "age == 43"
   ]
  },
  {
   "cell_type": "markdown",
   "id": "b5d250ca-bc38-4bfd-8aef-ac9ba1840599",
   "metadata": {},
   "source": [
    "## Combining Booleans and Comparison Operators\n",
    "1. Enter and evaluate the code you see in Slide 17 "
   ]
  },
  {
   "cell_type": "code",
   "execution_count": 49,
   "id": "aedcb54e-3e9b-4ed9-bdad-9e255395263c",
   "metadata": {},
   "outputs": [
    {
     "data": {
      "text/plain": [
       "True"
      ]
     },
     "execution_count": 49,
     "metadata": {},
     "output_type": "execute_result"
    }
   ],
   "source": [
    "myAge = 42\n",
    "myPet=\"cat\"\n",
    "myAge >20 and myPet == \"cat\""
   ]
  },
  {
   "cell_type": "code",
   "execution_count": 50,
   "id": "db9cec7a-d381-44fd-af05-806890855a67",
   "metadata": {},
   "outputs": [
    {
     "data": {
      "text/plain": [
       "False"
      ]
     },
     "execution_count": 50,
     "metadata": {},
     "output_type": "execute_result"
    }
   ],
   "source": [
    "myAge > 20 and myPet == \"dog\""
   ]
  },
  {
   "cell_type": "markdown",
   "id": "976c0663-a433-486d-bf13-a3e4ebd8d04b",
   "metadata": {},
   "source": [
    "# Flow Control\n",
    "## elif Statments\n",
    "1. Enter and evaluate the code from Slide 24"
   ]
  },
  {
   "cell_type": "code",
   "execution_count": 58,
   "id": "b7033ea4-1248-41aa-912b-d890f0bb00ba",
   "metadata": {},
   "outputs": [
    {
     "name": "stdin",
     "output_type": "stream",
     "text": [
      "What is your name? nathan\n",
      "What is your age? 42\n"
     ]
    },
    {
     "name": "stdout",
     "output_type": "stream",
     "text": [
      "You are a baby\n"
     ]
    }
   ],
   "source": [
    "name = input(\"What is your name?\")\n",
    "age = int(input(\"What is your age?\"))\n",
    "\n",
    "if name == 'Alice':\n",
    "    print('Hi, Alice.')\n",
    "elif age < 12:\n",
    "    print('You are not Alice, kiddo.')\n",
    "elif age > 2000:\n",
    "    print('Unlike you, Alice is not an undead, immortal vampire.')\n",
    "elif age > 100:\n",
    "    print('You are not Alice, grannie.')\n",
    "elif age < 100:\n",
    "    print('You are a baby')\n"
   ]
  },
  {
   "cell_type": "markdown",
   "id": "26c1a299-8ba7-4957-a37d-6cbbb307de52",
   "metadata": {},
   "source": [
    "## while Loop Statements\n",
    "1. Enter and evaluate the code from Slide 26 in two seperate cells"
   ]
  },
  {
   "cell_type": "code",
   "execution_count": 53,
   "id": "a21d9359-d9ef-416f-a123-d8c33eb93dc9",
   "metadata": {},
   "outputs": [
    {
     "name": "stdout",
     "output_type": "stream",
     "text": [
      "Hello, world.\n",
      "Hello, world.\n",
      "Hello, world.\n",
      "Hello, world.\n",
      "Hello, world.\n"
     ]
    }
   ],
   "source": [
    "spam = 0\n",
    "while spam < 5:\n",
    "    print(\"Hello, world.\")\n",
    "    spam = spam + 1"
   ]
  },
  {
   "cell_type": "code",
   "execution_count": 54,
   "id": "8e91fe31-6503-4a15-9edd-e0d08f00bdcd",
   "metadata": {},
   "outputs": [
    {
     "name": "stdout",
     "output_type": "stream",
     "text": [
      "Hello, world.\n"
     ]
    }
   ],
   "source": [
    "spam = 0\n",
    "if spam < 5:\n",
    "    print(\"Hello, world.\")\n",
    "    spam = spam + 1"
   ]
  },
  {
   "cell_type": "markdown",
   "id": "eb6e13c8-c7ba-4dd3-9804-a5c71fee3cb0",
   "metadata": {},
   "source": [
    "## Infinate while Loops\n",
    "1. Run the following cell\n",
    "2. Why doesn't it seem to end? Either terminate the kernel or read the code to figure out how to stop the loop"
   ]
  },
  {
   "cell_type": "code",
   "execution_count": 64,
   "id": "49d833be-665b-4188-bd78-002f32689a77",
   "metadata": {},
   "outputs": [
    {
     "name": "stdout",
     "output_type": "stream",
     "text": [
      "Please enter your name\n"
     ]
    },
    {
     "name": "stdin",
     "output_type": "stream",
     "text": [
      " Nathan\n"
     ]
    },
    {
     "name": "stdout",
     "output_type": "stream",
     "text": [
      "Thank you Nathan!\n"
     ]
    }
   ],
   "source": [
    "name = ''\n",
    "while name == '':\n",
    "    print(\"Please enter your name\")\n",
    "    name = input()\n",
    "print('Thank you ' + name + '!')\n"
   ]
  },
  {
   "cell_type": "markdown",
   "id": "13be0e78-aca4-419b-ad8b-dadac3bc9260",
   "metadata": {},
   "source": [
    "## Break Statements\n",
    "Compare the following code to the above code. Why does the following not create an infinate loop?"
   ]
  },
  {
   "cell_type": "code",
   "execution_count": 62,
   "id": "2be68b88-013f-4f4c-9e26-528980915b1c",
   "metadata": {},
   "outputs": [
    {
     "ename": "SyntaxError",
     "evalue": "expected ':' (3179945704.py, line 4)",
     "output_type": "error",
     "traceback": [
      "\u001b[1;36m  Cell \u001b[1;32mIn[62], line 4\u001b[1;36m\u001b[0m\n\u001b[1;33m    if name == 'your name'\u001b[0m\n\u001b[1;37m                          ^\u001b[0m\n\u001b[1;31mSyntaxError\u001b[0m\u001b[1;31m:\u001b[0m expected ':'\n"
     ]
    }
   ],
   "source": [
    "while True:\n",
    "    print('Please type your name')\n",
    "    name = input()\n",
    "    if name == 'your name'\n",
    "        break\n",
    "print('Thank you ' + name)"
   ]
  },
  {
   "cell_type": "markdown",
   "id": "9fc3a2d5-f334-4ce2-99a4-ecb1e7ef5ed4",
   "metadata": {},
   "source": [
    "Even though it's looking for 'your name' exactly the break statement stops it "
   ]
  },
  {
   "cell_type": "markdown",
   "id": "01dc419b-85e0-4461-8c8b-d89c57712d53",
   "metadata": {},
   "source": [
    "## Continue Statements"
   ]
  },
  {
   "cell_type": "code",
   "execution_count": 63,
   "id": "7eb0f6d1-cadc-4113-a846-b49bf26bc697",
   "metadata": {},
   "outputs": [
    {
     "name": "stdout",
     "output_type": "stream",
     "text": [
      "Who are you?\n"
     ]
    },
    {
     "name": "stdin",
     "output_type": "stream",
     "text": [
      " ben\n"
     ]
    },
    {
     "name": "stdout",
     "output_type": "stream",
     "text": [
      "Who are you?\n"
     ]
    },
    {
     "name": "stdin",
     "output_type": "stream",
     "text": [
      " Joe\n"
     ]
    },
    {
     "name": "stdout",
     "output_type": "stream",
     "text": [
      "Hello Joe. What is the password? (Hint: It’s a fish.)\n"
     ]
    },
    {
     "name": "stdin",
     "output_type": "stream",
     "text": [
      " swordfish\n"
     ]
    },
    {
     "name": "stdout",
     "output_type": "stream",
     "text": [
      "Access Granted for Joe\n"
     ]
    }
   ],
   "source": [
    "while True:\n",
    "     print('Who are you?')\n",
    "     name = input()\n",
    "     if name != 'Joe':\n",
    "        continue\n",
    "     print('Hello Joe. What is the password? (Hint: It’s a fish.)')\n",
    "     password = input()\n",
    "     if password == 'swordfish':\n",
    "          break\n",
    "print('Access Granted for ' + name)"
   ]
  },
  {
   "cell_type": "markdown",
   "id": "3c7d16c1-468d-4f77-be1d-4d5f91baf444",
   "metadata": {},
   "source": [
    "## The Range Function\n",
    "1. Enter the code you see in slide 31 in the following two cells. Edit the values to see how it changes the execution."
   ]
  },
  {
   "cell_type": "code",
   "execution_count": 65,
   "id": "c1f1b2e2-f69f-410e-b09e-0e8233a780c7",
   "metadata": {},
   "outputs": [
    {
     "name": "stdout",
     "output_type": "stream",
     "text": [
      "My name is\n",
      "Jimmy Five Times (0)\n",
      "Jimmy Five Times (1)\n",
      "Jimmy Five Times (2)\n",
      "Jimmy Five Times (3)\n",
      "Jimmy Five Times (4)\n"
     ]
    }
   ],
   "source": [
    "print('My name is')\n",
    "for i in range(5):\n",
    "    print('Jimmy Five Times (' + str(i) + ')')"
   ]
  },
  {
   "cell_type": "code",
   "execution_count": 66,
   "id": "3969cdf3-f555-47fd-9260-ba7bc047e0dc",
   "metadata": {},
   "outputs": [
    {
     "name": "stdout",
     "output_type": "stream",
     "text": [
      "\n",
      "My name is\n",
      "Jimmy Five Times (0)\n",
      "Jimmy Five Times (1)\n",
      "Jimmy Five Times (2)\n",
      "Jimmy Five Times (3)\n",
      "Jimmy Five Times (4)\n"
     ]
    }
   ],
   "source": [
    "print('\\nMy name is')\n",
    "i = 0\n",
    "while i < 5:\n",
    "    print('Jimmy Five Times (' + str(i) + ')')\n",
    "    i = i + 1"
   ]
  },
  {
   "cell_type": "markdown",
   "id": "6988e753-1adc-42d3-bfca-e16d84da19e0",
   "metadata": {},
   "source": [
    "# The sys.exit() Function\n",
    "1. Enter and execute the code on slide 32"
   ]
  },
  {
   "cell_type": "code",
   "execution_count": 67,
   "id": "53c18437-1846-4ad2-8f88-9af4f385ed20",
   "metadata": {
    "scrolled": true
   },
   "outputs": [
    {
     "name": "stdout",
     "output_type": "stream",
     "text": [
      "Type exit to exit.\n"
     ]
    },
    {
     "name": "stdin",
     "output_type": "stream",
     "text": [
      " poop\n"
     ]
    },
    {
     "name": "stdout",
     "output_type": "stream",
     "text": [
      "You typed poop.\n",
      "Type exit to exit.\n"
     ]
    },
    {
     "name": "stdin",
     "output_type": "stream",
     "text": [
      " exit\n"
     ]
    },
    {
     "ename": "SystemExit",
     "evalue": "",
     "output_type": "error",
     "traceback": [
      "An exception has occurred, use %tb to see the full traceback.\n",
      "\u001b[1;31mSystemExit\u001b[0m\n"
     ]
    },
    {
     "name": "stderr",
     "output_type": "stream",
     "text": [
      "C:\\Users\\natha\\miniconda3\\envs\\gis-3011\\lib\\site-packages\\IPython\\core\\interactiveshell.py:3561: UserWarning: To exit: use 'exit', 'quit', or Ctrl-D.\n",
      "  warn(\"To exit: use 'exit', 'quit', or Ctrl-D.\", stacklevel=1)\n"
     ]
    }
   ],
   "source": [
    "import sys\n",
    "\n",
    "while True:\n",
    "    print('Type exit to exit.')\n",
    "    response = input()\n",
    "    if response == 'exit':\n",
    "        sys.exit()\n",
    "    print('You typed ' + response + '.')"
   ]
  },
  {
   "cell_type": "markdown",
   "id": "6e32d36a-0715-4e3c-be28-5d7707430300",
   "metadata": {},
   "source": [
    "# Global and Local Variables"
   ]
  },
  {
   "cell_type": "code",
   "execution_count": 1,
   "id": "92c1c6bf-addf-4a08-b224-b1bc95a8837b",
   "metadata": {},
   "outputs": [
    {
     "ename": "NameError",
     "evalue": "name 'eggs' is not defined",
     "output_type": "error",
     "traceback": [
      "\u001b[1;31m---------------------------------------------------------------------------\u001b[0m",
      "\u001b[1;31mNameError\u001b[0m                                 Traceback (most recent call last)",
      "Cell \u001b[1;32mIn[1], line 4\u001b[0m\n\u001b[0;32m      2\u001b[0m     eggs \u001b[38;5;241m=\u001b[39m \u001b[38;5;241m42\u001b[39m\n\u001b[0;32m      3\u001b[0m spam()\n\u001b[1;32m----> 4\u001b[0m \u001b[38;5;28mprint\u001b[39m(\u001b[43meggs\u001b[49m)\n",
      "\u001b[1;31mNameError\u001b[0m: name 'eggs' is not defined"
     ]
    }
   ],
   "source": [
    "def spam():\n",
    "    eggs = 42\n",
    "spam()\n",
    "print(eggs)"
   ]
  },
  {
   "cell_type": "code",
   "execution_count": 2,
   "id": "d689b4ec-14eb-4abb-b7b3-66a010bd6926",
   "metadata": {},
   "outputs": [
    {
     "name": "stdout",
     "output_type": "stream",
     "text": [
      "99\n"
     ]
    }
   ],
   "source": [
    "def spam():\n",
    "    eggs = 99\n",
    "    bacon()\n",
    "    print(eggs)\n",
    "def bacon():\n",
    "    ham =101\n",
    "    eggs = 0\n",
    "spam()"
   ]
  },
  {
   "cell_type": "code",
   "execution_count": 3,
   "id": "1adc6c18-161d-43c2-9d9a-874e460b6358",
   "metadata": {},
   "outputs": [
    {
     "name": "stdout",
     "output_type": "stream",
     "text": [
      "42\n",
      "42\n"
     ]
    }
   ],
   "source": [
    "def spam():\n",
    "   print(eggs)\n",
    "eggs = 42\n",
    "spam()\n",
    "print(eggs)"
   ]
  },
  {
   "cell_type": "code",
   "execution_count": 4,
   "id": "ac89233e-b853-405f-b996-af78f729ebb7",
   "metadata": {},
   "outputs": [
    {
     "name": "stdout",
     "output_type": "stream",
     "text": [
      "hard boiled\n",
      "over easy\n",
      "hard boiled\n",
      "poached\n"
     ]
    }
   ],
   "source": [
    "def spam():\n",
    "    eggs = 'over easy'\n",
    "    print(eggs)    # prints 'over easy'\n",
    "\n",
    "def bacon():\n",
    "    eggs = 'hard boiled'\n",
    "    print(eggs)    # prints 'head boiled'\n",
    "    spam()\n",
    "    print(eggs)    # prints 'hard boiled' \n",
    "\n",
    "eggs = 'poached'\n",
    "bacon()\n",
    "print(eggs)        # prints 'poached'"
   ]
  },
  {
   "cell_type": "code",
   "execution_count": 5,
   "id": "f64210f5-1d6b-4fed-86b9-c115ad32a6be",
   "metadata": {},
   "outputs": [
    {
     "name": "stdout",
     "output_type": "stream",
     "text": [
      "over easy\n"
     ]
    }
   ],
   "source": [
    "def spam():\n",
    "    global eggs\n",
    "    eggs = 'over easy'\n",
    "eggs = \"hard boiled\"\n",
    "spam()\n",
    "print(eggs)"
   ]
  },
  {
   "cell_type": "code",
   "execution_count": 6,
   "id": "fa1d2d59-56c8-4285-af3a-fa10afc0532d",
   "metadata": {},
   "outputs": [
    {
     "ename": "UnboundLocalError",
     "evalue": "local variable 'eggs' referenced before assignment",
     "output_type": "error",
     "traceback": [
      "\u001b[1;31m---------------------------------------------------------------------------\u001b[0m",
      "\u001b[1;31mUnboundLocalError\u001b[0m                         Traceback (most recent call last)",
      "Cell \u001b[1;32mIn[6], line 6\u001b[0m\n\u001b[0;32m      3\u001b[0m    eggs \u001b[38;5;241m=\u001b[39m \u001b[38;5;124m'\u001b[39m\u001b[38;5;124mpoached local\u001b[39m\u001b[38;5;124m'\u001b[39m\n\u001b[0;32m      5\u001b[0m Eggs \u001b[38;5;241m=\u001b[39m \u001b[38;5;124m'\u001b[39m\u001b[38;5;124mhard boiled\u001b[39m\u001b[38;5;124m'\u001b[39m\n\u001b[1;32m----> 6\u001b[0m \u001b[43mspam\u001b[49m\u001b[43m(\u001b[49m\u001b[43m)\u001b[49m\n",
      "Cell \u001b[1;32mIn[6], line 2\u001b[0m, in \u001b[0;36mspam\u001b[1;34m()\u001b[0m\n\u001b[0;32m      1\u001b[0m \u001b[38;5;28;01mdef\u001b[39;00m \u001b[38;5;21mspam\u001b[39m():\n\u001b[1;32m----> 2\u001b[0m    \u001b[38;5;28mprint\u001b[39m(\u001b[43meggs\u001b[49m) \u001b[38;5;66;03m#ERROR\u001b[39;00m\n\u001b[0;32m      3\u001b[0m    eggs \u001b[38;5;241m=\u001b[39m \u001b[38;5;124m'\u001b[39m\u001b[38;5;124mpoached local\u001b[39m\u001b[38;5;124m'\u001b[39m\n",
      "\u001b[1;31mUnboundLocalError\u001b[0m: local variable 'eggs' referenced before assignment"
     ]
    }
   ],
   "source": [
    "def spam():\n",
    "   print(eggs) #ERROR\n",
    "   eggs = 'poached local'\n",
    "\n",
    "Eggs = 'hard boiled'\n",
    "spam()"
   ]
  },
  {
   "cell_type": "markdown",
   "id": "4e15dd74-3234-4f66-8498-412b56d57752",
   "metadata": {},
   "source": [
    "# Exception Handling"
   ]
  },
  {
   "cell_type": "code",
   "execution_count": 7,
   "id": "bb1f4af2-6dea-4a96-b05e-a21349cd4f34",
   "metadata": {},
   "outputs": [],
   "source": [
    "def spam(divideBy):\n",
    "    return 42 / divideBy"
   ]
  },
  {
   "cell_type": "code",
   "execution_count": 8,
   "id": "02433708-c5f5-4e43-b314-d521e189eddf",
   "metadata": {},
   "outputs": [
    {
     "ename": "SyntaxError",
     "evalue": "invalid syntax (3928167524.py, line 4)",
     "output_type": "error",
     "traceback": [
      "\u001b[1;36m  Cell \u001b[1;32mIn[8], line 4\u001b[1;36m\u001b[0m\n\u001b[1;33m    except ZeroDivisionError:\u001b[0m\n\u001b[1;37m    ^\u001b[0m\n\u001b[1;31mSyntaxError\u001b[0m\u001b[1;31m:\u001b[0m invalid syntax\n"
     ]
    }
   ],
   "source": [
    "def spam(divideBy):\n",
    "    try:\n",
    "        return 42 / divideBy\n",
    "        except ZeroDivisionError:\n",
    "print('Error: Invalid argument.')"
   ]
  },
  {
   "cell_type": "code",
   "execution_count": 9,
   "id": "a2b99f49-c044-4b55-80a7-e99e3df22691",
   "metadata": {},
   "outputs": [
    {
     "name": "stdout",
     "output_type": "stream",
     "text": [
      "21.0\n",
      "3.5\n",
      "Error: Invalid argument.\n"
     ]
    }
   ],
   "source": [
    "def spam(divideBy):\n",
    "    return 42 / divideBy\n",
    "try:\n",
    "    print(spam(2))\n",
    "    print(spam(12))\n",
    "    print(spam(0))\n",
    "    print(spam(1))\n",
    "except ZeroDivisionError:\n",
    "    print('Error: Invalid argument.')"
   ]
  },
  {
   "cell_type": "markdown",
   "id": "3b24a970-a7d0-4234-9cca-ea59287d0a31",
   "metadata": {},
   "source": [
    "# The List Data Type"
   ]
  },
  {
   "cell_type": "code",
   "execution_count": 10,
   "id": "e1d98ee0-3ecf-42cc-bda9-07a81da69d1c",
   "metadata": {},
   "outputs": [],
   "source": [
    "spam = ['cat', 'bat', 'rat', 'elephant']"
   ]
  },
  {
   "cell_type": "markdown",
   "id": "df4814f5-08fd-4d68-9651-b7134355d1ec",
   "metadata": {},
   "source": [
    "# Working with Lists"
   ]
  },
  {
   "cell_type": "code",
   "execution_count": 13,
   "id": "bbfca7c0-8460-4afb-9317-1fe562d4e9a2",
   "metadata": {},
   "outputs": [
    {
     "data": {
      "text/plain": [
       "['cat', 'bat']"
      ]
     },
     "execution_count": 13,
     "metadata": {},
     "output_type": "execute_result"
    }
   ],
   "source": [
    "spam = ['cat', 'bat', 'rat', 'elephant']\n",
    "spam[:2]"
   ]
  },
  {
   "cell_type": "code",
   "execution_count": 14,
   "id": "5fa1daa7-a019-4b39-9ef4-fc99945c0c27",
   "metadata": {},
   "outputs": [],
   "source": [
    "catName1 = 'Zophie'\n",
    "catName2 = 'Pooka'\n",
    "catName3 = 'Simon'\n",
    "catName4 = 'Lady Macbeth'\n",
    "catName5 = 'Fat-tail'\n",
    "catName6 = 'Miss Cleo'"
   ]
  },
  {
   "cell_type": "code",
   "execution_count": 15,
   "id": "5cfa6346-6c5d-492d-84f0-e49719ca68dd",
   "metadata": {},
   "outputs": [
    {
     "name": "stdout",
     "output_type": "stream",
     "text": [
      "Enter the name of cat 1:\n"
     ]
    },
    {
     "name": "stdin",
     "output_type": "stream",
     "text": [
      " Matthew\n"
     ]
    },
    {
     "name": "stdout",
     "output_type": "stream",
     "text": [
      "Enter the name of cat 2:\n"
     ]
    },
    {
     "name": "stdin",
     "output_type": "stream",
     "text": [
      " mark\n"
     ]
    },
    {
     "name": "stdout",
     "output_type": "stream",
     "text": [
      "Enter the name of cat 3:\n"
     ]
    },
    {
     "name": "stdin",
     "output_type": "stream",
     "text": [
      " luke\n"
     ]
    },
    {
     "name": "stdout",
     "output_type": "stream",
     "text": [
      "Enter the name of cat 4:\n"
     ]
    },
    {
     "name": "stdin",
     "output_type": "stream",
     "text": [
      " john\n"
     ]
    },
    {
     "name": "stdout",
     "output_type": "stream",
     "text": [
      "Enter the name of cat 5:\n"
     ]
    },
    {
     "name": "stdin",
     "output_type": "stream",
     "text": [
      " jesus\n"
     ]
    },
    {
     "name": "stdout",
     "output_type": "stream",
     "text": [
      "Enter the name of cat 6:\n"
     ]
    },
    {
     "name": "stdin",
     "output_type": "stream",
     "text": [
      " satan\n"
     ]
    },
    {
     "name": "stdout",
     "output_type": "stream",
     "text": [
      "The cat names are:\n",
      "Matthew mark luke john jesus satan\n"
     ]
    }
   ],
   "source": [
    "print('Enter the name of cat 1:')\n",
    "catName1 = input()\n",
    "print('Enter the name of cat 2:')\n",
    "catName2 = input()\n",
    "print('Enter the name of cat 3:')\n",
    "catName3 = input()\n",
    "print('Enter the name of cat 4:')\n",
    "catName4 = input()\n",
    "print('Enter the name of cat 5:')\n",
    "catName5 = input()\n",
    "print('Enter the name of cat 6:')\n",
    "catName6 = input()\n",
    "print('The cat names are:')\n",
    "print(catName1 + ' ' + catName2 + ' ' + catName3 + ' ' + catName4 + ' ' +\n",
    "catName5 + ' ' + catName6)"
   ]
  },
  {
   "cell_type": "code",
   "execution_count": 16,
   "id": "ef022322-0063-4043-8a43-67fc618beec0",
   "metadata": {},
   "outputs": [
    {
     "name": "stdout",
     "output_type": "stream",
     "text": [
      "Enter the name of cat 1 (Or enter nothing to stop.):\n"
     ]
    },
    {
     "name": "stdin",
     "output_type": "stream",
     "text": [
      " Bobo\n"
     ]
    },
    {
     "name": "stdout",
     "output_type": "stream",
     "text": [
      "Enter the name of cat 2 (Or enter nothing to stop.):\n"
     ]
    },
    {
     "name": "stdin",
     "output_type": "stream",
     "text": [
      " bilbo\n"
     ]
    },
    {
     "name": "stdout",
     "output_type": "stream",
     "text": [
      "Enter the name of cat 3 (Or enter nothing to stop.):\n"
     ]
    },
    {
     "name": "stdin",
     "output_type": "stream",
     "text": [
      " bandicoot\n"
     ]
    },
    {
     "name": "stdout",
     "output_type": "stream",
     "text": [
      "Enter the name of cat 4 (Or enter nothing to stop.):\n"
     ]
    },
    {
     "name": "stdin",
     "output_type": "stream",
     "text": [
      " bandit\n"
     ]
    },
    {
     "name": "stdout",
     "output_type": "stream",
     "text": [
      "Enter the name of cat 5 (Or enter nothing to stop.):\n"
     ]
    },
    {
     "name": "stdin",
     "output_type": "stream",
     "text": [
      " bojang\n"
     ]
    },
    {
     "name": "stdout",
     "output_type": "stream",
     "text": [
      "Enter the name of cat 6 (Or enter nothing to stop.):\n"
     ]
    },
    {
     "name": "stdin",
     "output_type": "stream",
     "text": [
      " \n"
     ]
    },
    {
     "name": "stdout",
     "output_type": "stream",
     "text": [
      "The cat names are:\n",
      " Bobo\n",
      " bilbo\n",
      " bandicoot\n",
      " bandit\n",
      " bojang\n"
     ]
    }
   ],
   "source": [
    "catNames = []\n",
    "while True:\n",
    "    print('Enter the name of cat ' + str(len(catNames) + 1) + ' (Or enter nothing to stop.):')\n",
    "    name = input()\n",
    "    if name == '':\n",
    "        break\n",
    "    catNames = catNames + [name] # list concatenation\n",
    "print('The cat names are:')\n",
    "for name in catNames:\n",
    "    print(' ' + name)"
   ]
  },
  {
   "cell_type": "markdown",
   "id": "62d6308e-f74c-4ff3-bd78-4a0c0cbd5960",
   "metadata": {},
   "source": [
    "# Using for Loops with Lists"
   ]
  },
  {
   "cell_type": "code",
   "execution_count": 17,
   "id": "b236d4a9-bd06-4838-8475-4e7d79c653d8",
   "metadata": {},
   "outputs": [
    {
     "name": "stdout",
     "output_type": "stream",
     "text": [
      "0\n",
      "1\n",
      "2\n",
      "3\n"
     ]
    }
   ],
   "source": [
    "for i in range(4):\n",
    "    print(i)"
   ]
  },
  {
   "cell_type": "markdown",
   "id": "fe46456d-0c3a-4bb0-ae62-97a1c6d444c8",
   "metadata": {},
   "source": [
    "is the same as"
   ]
  },
  {
   "cell_type": "code",
   "execution_count": 18,
   "id": "d86496b6-d0d7-42c5-a375-2612be2aa98d",
   "metadata": {},
   "outputs": [
    {
     "name": "stdout",
     "output_type": "stream",
     "text": [
      "0\n",
      "1\n",
      "2\n",
      "3\n"
     ]
    }
   ],
   "source": [
    "for i in [0, 1, 2, 3]:\n",
    "    print(i)"
   ]
  },
  {
   "cell_type": "markdown",
   "id": "eecf77da-ad74-425c-9c15-71266570871e",
   "metadata": {},
   "source": [
    "However, the range function only works with numbers. Here is one way to complete a for loop with strings"
   ]
  },
  {
   "cell_type": "code",
   "execution_count": 19,
   "id": "973f4fb0-4393-48a9-915c-a49cb33cc167",
   "metadata": {},
   "outputs": [
    {
     "name": "stdout",
     "output_type": "stream",
     "text": [
      "Index 0 in supplies is: pens\n",
      "Index 1 in supplies is: staplers\n",
      "Index 2 in supplies is: flamethrowers\n",
      "Index 3 in supplies is: binders\n"
     ]
    }
   ],
   "source": [
    "supplies = ['pens', 'staplers', 'flamethrowers', 'binders']\n",
    "for i in range(len(supplies)):\n",
    "    print('Index ' + str(i) + ' in supplies is: ' + supplies[i])"
   ]
  },
  {
   "cell_type": "markdown",
   "id": "e2c643f5-39ca-43f6-8e74-40171e52c8c3",
   "metadata": {},
   "source": [
    "Instead of the command range(len(someList)) with a for loop to obtain the integer index of the items in the list, you can use the enumerate() function instead. On each iteration of the loop, enumerate() will return two values: the index of the item in the list and the list items itself. \n",
    "\n",
    "The enumerate() function is useful if you need both the item and the item’s index in the loop’s block."
   ]
  },
  {
   "cell_type": "code",
   "execution_count": 21,
   "id": "488c226c-8abf-4609-9d04-e08e88c103c2",
   "metadata": {},
   "outputs": [
    {
     "name": "stdout",
     "output_type": "stream",
     "text": [
      "Index 0 in supplies is: pens\n",
      "Index 1 in supplies is: staplers\n",
      "Index 2 in supplies is: flamethrowers\n",
      "Index 3 in supplies is: binders\n"
     ]
    }
   ],
   "source": [
    "supplies = ['pens', 'staplers', 'flamethrowers', 'binders']\n",
    "for index, item in enumerate(supplies):\n",
    "    print('Index ' + str(index) + ' in supplies is: ' + item)"
   ]
  },
  {
   "cell_type": "markdown",
   "id": "be6da339-7fdf-45cc-b99f-2ed4a0c4009a",
   "metadata": {},
   "source": [
    "# The in and not in Operators"
   ]
  },
  {
   "cell_type": "code",
   "execution_count": 23,
   "id": "077b5d74-d159-40a6-8acc-40604e2b8eac",
   "metadata": {},
   "outputs": [
    {
     "name": "stdout",
     "output_type": "stream",
     "text": [
      "Enter a pet name:\n"
     ]
    },
    {
     "name": "stdin",
     "output_type": "stream",
     "text": [
      " Pooka\n"
     ]
    },
    {
     "name": "stdout",
     "output_type": "stream",
     "text": [
      "Pooka is my pet.\n"
     ]
    }
   ],
   "source": [
    "myPets = ['Zophie', 'Pooka', 'Fat-tail']\n",
    "print('Enter a pet name:')\n",
    "name = input()\n",
    "if name not in myPets:\n",
    "    print('I do not have a pet named ' + name)\n",
    "else:\n",
    "    print(name + ' is my pet.')"
   ]
  },
  {
   "cell_type": "markdown",
   "id": "e79c07f1-a862-4674-87a4-de9f87abb93a",
   "metadata": {},
   "source": [
    "# Using the random.choice() and random.shuffle() Functions with Lists\n",
    "Run the following cells more than once and see what happens"
   ]
  },
  {
   "cell_type": "code",
   "execution_count": 27,
   "id": "c3786e62-10c1-484e-b60c-2dc748037dfb",
   "metadata": {},
   "outputs": [
    {
     "data": {
      "text/plain": [
       "'Dog'"
      ]
     },
     "execution_count": 27,
     "metadata": {},
     "output_type": "execute_result"
    }
   ],
   "source": [
    "import random\n",
    "pets = [\"Dog\", \"Cat\", \"Moose\"]\n",
    "random.choice(pets)"
   ]
  },
  {
   "cell_type": "code",
   "execution_count": 29,
   "id": "526be5d0-326c-4648-831d-ce5777fbcb94",
   "metadata": {},
   "outputs": [
    {
     "data": {
      "text/plain": [
       "['Bob', 'Alice', 'Carol', 'David']"
      ]
     },
     "execution_count": 29,
     "metadata": {},
     "output_type": "execute_result"
    }
   ],
   "source": [
    "people = [\"Alice\", \"Bob\", \"Carol\", \"David\"]\n",
    "random.shuffle(people) \n",
    "people\n"
   ]
  },
  {
   "cell_type": "markdown",
   "id": "f4af50a0-b570-4de8-83ac-69016d66b206",
   "metadata": {},
   "source": [
    "# List Methods\n",
    "1. Create a list\n",
    "2. Use the insert, append, index, remove, sort, and reverse methods on that list\n",
    "See the slide for examples"
   ]
  },
  {
   "cell_type": "code",
   "execution_count": 30,
   "id": "2b3a1e99-50d0-471d-b05c-a507d2166b69",
   "metadata": {},
   "outputs": [],
   "source": [
    "dinos = [\"Spike\", \"Tiny\", \"Rex\", \"Suzy\"]"
   ]
  },
  {
   "cell_type": "code",
   "execution_count": 31,
   "id": "c29595ec-26e1-430d-9c2c-86d1bb01b711",
   "metadata": {},
   "outputs": [
    {
     "data": {
      "text/plain": [
       "2"
      ]
     },
     "execution_count": 31,
     "metadata": {},
     "output_type": "execute_result"
    }
   ],
   "source": [
    "dinos.index(\"Rex\")"
   ]
  },
  {
   "cell_type": "code",
   "execution_count": 33,
   "id": "249ec067-3ef4-42d2-b535-14925faabbd7",
   "metadata": {},
   "outputs": [
    {
     "data": {
      "text/plain": [
       "['Spike', 'Tiny', 'Rex', 'Whiskers', 'Suzy']"
      ]
     },
     "execution_count": 33,
     "metadata": {},
     "output_type": "execute_result"
    }
   ],
   "source": [
    "dinos.insert(3, \"Whiskers\")\n",
    "dinos"
   ]
  },
  {
   "cell_type": "code",
   "execution_count": 34,
   "id": "902e0fb0-b6ec-4924-bfa3-4e3f15d72da5",
   "metadata": {},
   "outputs": [
    {
     "data": {
      "text/plain": [
       "['Spike', 'Tiny', 'Rex', 'Whiskers', 'Suzy', 'Grumpy']"
      ]
     },
     "execution_count": 34,
     "metadata": {},
     "output_type": "execute_result"
    }
   ],
   "source": [
    "dinos.append(\"Grumpy\")\n",
    "dinos"
   ]
  },
  {
   "cell_type": "code",
   "execution_count": 36,
   "id": "4ac30e5f-e365-4705-bfa2-03af942d380f",
   "metadata": {},
   "outputs": [
    {
     "data": {
      "text/plain": [
       "['Spike', 'Tiny', 'Rex', 'Whiskers', 'Suzy']"
      ]
     },
     "execution_count": 36,
     "metadata": {},
     "output_type": "execute_result"
    }
   ],
   "source": [
    "dinos.remove(\"Grumpy\")\n",
    "dinos"
   ]
  },
  {
   "cell_type": "code",
   "execution_count": 37,
   "id": "ca1027d6-d5a8-4faa-8e54-32b7f0df4ab6",
   "metadata": {},
   "outputs": [
    {
     "data": {
      "text/plain": [
       "['Rex', 'Spike', 'Suzy', 'Tiny', 'Whiskers']"
      ]
     },
     "execution_count": 37,
     "metadata": {},
     "output_type": "execute_result"
    }
   ],
   "source": [
    "dinos.sort()\n",
    "dinos"
   ]
  },
  {
   "cell_type": "code",
   "execution_count": 38,
   "id": "a8b7bd5c-0962-4d8e-9f60-72e7815b2540",
   "metadata": {},
   "outputs": [],
   "source": [
    "dinos.reverse()"
   ]
  },
  {
   "cell_type": "code",
   "execution_count": 39,
   "id": "23cf23c3-acf3-425c-b285-1f479560e70b",
   "metadata": {},
   "outputs": [
    {
     "data": {
      "text/plain": [
       "['Whiskers', 'Tiny', 'Suzy', 'Spike', 'Rex']"
      ]
     },
     "execution_count": 39,
     "metadata": {},
     "output_type": "execute_result"
    }
   ],
   "source": [
    "dinos"
   ]
  },
  {
   "cell_type": "code",
   "execution_count": null,
   "id": "d94e65b0-609b-4aa0-9ec1-84e370f3e31e",
   "metadata": {},
   "outputs": [],
   "source": []
  },
  {
   "cell_type": "code",
   "execution_count": null,
   "id": "b2a881d3-95bc-43b1-adc1-82605ac78056",
   "metadata": {},
   "outputs": [],
   "source": []
  }
 ],
 "metadata": {
  "kernelspec": {
   "display_name": "Python 3 (ipykernel)",
   "language": "python",
   "name": "python3"
  },
  "language_info": {
   "codemirror_mode": {
    "name": "ipython",
    "version": 3
   },
   "file_extension": ".py",
   "mimetype": "text/x-python",
   "name": "python",
   "nbconvert_exporter": "python",
   "pygments_lexer": "ipython3",
   "version": "3.10.13"
  }
 },
 "nbformat": 4,
 "nbformat_minor": 5
}
